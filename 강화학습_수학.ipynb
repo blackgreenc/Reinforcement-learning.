{
  "nbformat": 4,
  "nbformat_minor": 0,
  "metadata": {
    "colab": {
      "name": "강화학습 수학.ipynb",
      "provenance": [],
      "authorship_tag": "ABX9TyMNiy/AMfyRNBJk09jvySdD",
      "include_colab_link": true
    },
    "kernelspec": {
      "name": "python3",
      "display_name": "Python 3"
    },
    "language_info": {
      "name": "python"
    }
  },
  "cells": [
    {
      "cell_type": "markdown",
      "metadata": {
        "id": "view-in-github",
        "colab_type": "text"
      },
      "source": [
        "<a href=\"https://colab.research.google.com/github/blackgreenc/Reinforcement-learning./blob/main/%EA%B0%95%ED%99%94%ED%95%99%EC%8A%B5_%EC%88%98%ED%95%99.ipynb\" target=\"_parent\"><img src=\"https://colab.research.google.com/assets/colab-badge.svg\" alt=\"Open In Colab\"/></a>"
      ]
    },
    {
      "cell_type": "code",
      "metadata": {
        "id": "1wxqKkPcRM0T"
      },
      "source": [
        "# 강화학습 수학공부 시작\n"
      ],
      "execution_count": null,
      "outputs": []
    },
    {
      "cell_type": "code",
      "metadata": {
        "id": "CZq32Ue947JN"
      },
      "source": [
        ""
      ],
      "execution_count": null,
      "outputs": []
    },
    {
      "cell_type": "markdown",
      "metadata": {
        "id": "Ax3G7f7E5FhG"
      },
      "source": [
        "$ a^2 + b^2 = c^2 $\n"
      ]
    }
  ]
}