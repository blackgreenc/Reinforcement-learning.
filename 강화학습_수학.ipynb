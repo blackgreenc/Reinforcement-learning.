{
  "nbformat": 4,
  "nbformat_minor": 0,
  "metadata": {
    "colab": {
      "name": "강화학습 수학.ipynb",
      "provenance": [],
      "authorship_tag": "ABX9TyPVgVAHMh+hmaNz21XNuMp2",
      "include_colab_link": true
    },
    "kernelspec": {
      "name": "python3",
      "display_name": "Python 3"
    },
    "language_info": {
      "name": "python"
    }
  },
  "cells": [
    {
      "cell_type": "markdown",
      "metadata": {
        "id": "view-in-github",
        "colab_type": "text"
      },
      "source": [
        "<a href=\"https://colab.research.google.com/github/blackgreenc/Reinforcement-learning./blob/main/%EA%B0%95%ED%99%94%ED%95%99%EC%8A%B5_%EC%88%98%ED%95%99.ipynb\" target=\"_parent\"><img src=\"https://colab.research.google.com/assets/colab-badge.svg\" alt=\"Open In Colab\"/></a>"
      ]
    },
    {
      "cell_type": "code",
      "metadata": {
        "id": "1wxqKkPcRM0T"
      },
      "source": [
        "import matplotlib.pyplot as plt"
      ],
      "execution_count": 1,
      "outputs": []
    },
    {
      "cell_type": "markdown",
      "metadata": {
        "id": "LaKOpUvhUZUG"
      },
      "source": [
        "<h1>피어슨 상관계수</h1>\n",
        "피어슨상관계수 +1은 완벽한 양의 상관관계, 0은 상관관계없음, -1은 완벽한 음의 상과관계이다."
      ]
    },
    {
      "cell_type": "markdown",
      "metadata": {
        "id": "A-KroESqVHMf"
      },
      "source": [
        " 구하는 식은 \n",
        " $$ 공분산 / 표준편차 * 표준편차$$\n",
        " <br>\n",
        " $$ = r_{XY}$$\n",
        " <br>\n",
        " $$ ={ {\\sum_1^n(X_i - X^-)(Y_i-Y^-) \\over n-1 } \\over  \\sqrt{\\sum_i^n(X_i - X^-)^2 \\over n-1} \\sqrt{\\sum_i^n(Y_i - Y^-)^2 \\over n-1} }$$\n",
        " 이다."
      ]
    }
  ]
}